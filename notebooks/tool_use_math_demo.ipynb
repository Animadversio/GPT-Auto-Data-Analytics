{
 "cells": [
  {
   "cell_type": "code",
   "execution_count": 1,
   "metadata": {},
   "outputs": [],
   "source": [
    "import sys\n",
    "sys.path.append('../')\n",
    "from auto_analytics.tool_chat_loop import tool_chat_loop,tool_chat_loop_2, shell\n",
    "from auto_analytics.utils.format_utils import message_thread_render"
   ]
  },
  {
   "cell_type": "code",
   "execution_count": 3,
   "metadata": {},
   "outputs": [
    {
     "name": "stdout",
     "output_type": "stream",
     "text": [
      "Python Code executed:\n",
      "```python\n",
      "import numpy as np\n",
      "from sympy import Matrix\n",
      "\n",
      "# Define matrix\n",
      "A = np.array([[1, 2], [3, 4]])\n",
      "\n",
      "# Calculate the inverse in the finite field of 7\n",
      "A_mod7 = Matrix(A).inv_mod(7)\n",
      "A_mod7\n",
      "```\n",
      "Execution Succeed:\n"
     ]
    },
    {
     "data": {
      "text/latex": [
       "$\\displaystyle \\left[\\begin{matrix}5 & 1\\\\5 & 3\\end{matrix}\\right]$"
      ],
      "text/plain": [
       "Matrix([\n",
       "[5, 1],\n",
       "[5, 3]])"
      ]
     },
     "metadata": {},
     "output_type": "display_data"
    },
    {
     "name": "stdout",
     "output_type": "stream",
     "text": [
      "The inverse of the matrix [[1, 2], [3, 4]] in the finite field of 7 is:\n",
      "\n",
      "[[5, 1],\n",
      "[5, 3]]\n",
      "[No tool use. Finishing conversation.]\n"
     ]
    }
   ],
   "source": [
    "messages = tool_chat_loop_2(\"Can you solve the matrix inverse of [[1 2],[3 4]] in the finite field of 7?\")"
   ]
  },
  {
   "cell_type": "code",
   "execution_count": 6,
   "metadata": {},
   "outputs": [
    {
     "data": {
      "text/latex": [
       "$\\displaystyle \\left[\\begin{matrix}1 & 0\\\\0 & 1\\end{matrix}\\right]$"
      ],
      "text/plain": [
       "Matrix([\n",
       "[1, 0],\n",
       "[0, 1]])"
      ]
     },
     "execution_count": 6,
     "metadata": {},
     "output_type": "execute_result"
    }
   ],
   "source": [
    "(shell.user_ns[\"A\"] @ shell.user_ns[\"A_mod7\"])%7"
   ]
  },
  {
   "cell_type": "code",
   "execution_count": null,
   "metadata": {},
   "outputs": [],
   "source": []
  },
  {
   "cell_type": "code",
   "execution_count": null,
   "metadata": {},
   "outputs": [],
   "source": []
  }
 ],
 "metadata": {
  "kernelspec": {
   "display_name": "torch",
   "language": "python",
   "name": "python3"
  },
  "language_info": {
   "codemirror_mode": {
    "name": "ipython",
    "version": 3
   },
   "file_extension": ".py",
   "mimetype": "text/x-python",
   "name": "python",
   "nbconvert_exporter": "python",
   "pygments_lexer": "ipython3",
   "version": "3.11.6"
  }
 },
 "nbformat": 4,
 "nbformat_minor": 2
}
